{
 "cells": [
  {
   "cell_type": "markdown",
   "id": "050debd9-1f8f-4730-8e05-ba8c9b5f8efb",
   "metadata": {},
   "source": [
    "# **PROYECTO FINAL | BIG DATA & ANALYTICS | MUNDIAL QATAR 2022**\n",
    "\n",
    "\n",
    "<img src=https://sc2.elpais.com.uy/files/article_main_up/uploads/2019/09/03/5d6eb181e460e.jpeg>"
   ]
  },
  {
   "cell_type": "markdown",
   "id": "38d69a8e-bfc4-4104-9c82-e3e802651519",
   "metadata": {},
   "source": []
  },
  {
   "cell_type": "markdown",
   "id": "9d2fae1b-3f18-42f6-9b05-a8cc3509ffe6",
   "metadata": {
    "tags": []
   },
   "source": [
    "## **Extract & Load Pipeline (Web Scraping | Google Cloud Storage | Big Query)** \n",
    "\n",
    "El presente programa, se encaga de extraer información de distintas páginas web, utilizando web scraping, generar archivos .CSV, almacenar los archivos en Gooogle Cloud Storage y cargar los datos en Bigquery."
   ]
  },
  {
   "cell_type": "markdown",
   "id": "c543f224-3981-4826-91c2-868aff2e097c",
   "metadata": {},
   "source": [
    "### ***Importar librerías***"
   ]
  },
  {
   "cell_type": "code",
   "execution_count": null,
   "id": "f568cd28-5698-4d33-ac28-d3faef44f14a",
   "metadata": {},
   "outputs": [],
   "source": [
    "from bs4 import BeautifulSoup\n",
    "import urllib.request\n",
    "import ssl\n",
    "import pandas as pd\n",
    "ssl._create_default_https_context = ssl._create_unverified_context\n",
    "import os\n",
    "from google.cloud import storage\n",
    "from google.cloud import bigquery\n"
   ]
  },
  {
   "cell_type": "markdown",
   "id": "5628f4d3-bfab-459c-8617-f30273e7fecd",
   "metadata": {},
   "source": [
    "### ***Cliente para interactuar con la API de Google Cloud Storage***"
   ]
  },
  {
   "cell_type": "code",
   "execution_count": null,
   "id": "2a7c97af-e617-43e0-9063-4c777a98b0c4",
   "metadata": {},
   "outputs": [],
   "source": [
    "gcs_client = storage.Client()"
   ]
  },
  {
   "cell_type": "markdown",
   "id": "e779d5c1-a34c-49c8-b31c-71848437c5ee",
   "metadata": {},
   "source": [
    "### ***Declaración de variables***"
   ]
  },
  {
   "cell_type": "code",
   "execution_count": null,
   "id": "fa514f5a-74b3-4e5f-b715-eababbdf0c84",
   "metadata": {},
   "outputs": [],
   "source": [
    "#URL\n",
    "url = urllib.request.Request(\"https://www.fifa.com/tournaments/mens/worldcup/qatar2022/qualifiers\")\n",
    "\n",
    "#URL Header\n",
    "url.add_header('accept-encoding','identity')\n",
    "\n",
    "#Response\n",
    "resp = urllib.request.urlopen(url)\n",
    "\n",
    "#Contenido general página web\n",
    "soup = BeautifulSoup(resp,\"html.parser\")\n",
    "\n",
    "#Búsqueda de todas las etiquetas tipo div\n",
    "divs = soup.find_all(\"div\", {\"class\": \"ff-show-more-container_main__vowVj\"})\n",
    "\n",
    "#Tabla BigQuery\n",
    "table_id = \"proyecto-final-bigdata.raw_data.dim_paises\"\n"
   ]
  },
  {
   "cell_type": "markdown",
   "id": "b3aa62d1-beec-4483-8096-8b9e71cc8462",
   "metadata": {},
   "source": [
    "### ***Lista para almacenar países clasificados al mundial***"
   ]
  },
  {
   "cell_type": "code",
   "execution_count": null,
   "id": "d80f7737-9b60-452f-b8bb-2e5624ccb49d",
   "metadata": {},
   "outputs": [],
   "source": [
    "result={\"pais\":[],\"clasificado\":[]}"
   ]
  },
  {
   "cell_type": "markdown",
   "id": "2bea5b8f-91dc-4621-a1db-3963bc075be0",
   "metadata": {},
   "source": [
    "### ***Ciclo para recorrer el contenido html, y agregar los países clasificados a la lista***"
   ]
  },
  {
   "cell_type": "code",
   "execution_count": null,
   "id": "1d856296-7c7c-4dad-84af-ad5445b341e3",
   "metadata": {},
   "outputs": [],
   "source": [
    "for country_detail in divs:\n",
    "    country_div=country_detail.find(\"div\",{\"class\": \"row\"})\n",
    "    for country in country_div:\n",
    "        if country.find(\"div\",{\"class\": \"col-1\"}).text==\"Q\":\n",
    "            result[\"clasificado\"].append(\"SI\")\n",
    "        else:\n",
    "            result[\"clasificado\"].append(\"NO\")\n",
    "        result[\"pais\"].append(country.find(\"div\",{\"class\": \"d-flex\"}).text)"
   ]
  },
  {
   "cell_type": "markdown",
   "id": "dda74394-0016-4f44-ba23-1585842f6699",
   "metadata": {},
   "source": [
    "### ***Crear Dataframes***"
   ]
  },
  {
   "cell_type": "code",
   "execution_count": null,
   "id": "b7e8841b-646e-4e2c-ab35-985289d849cb",
   "metadata": {},
   "outputs": [],
   "source": [
    "df_clasificados=pd.DataFrame(result)"
   ]
  },
  {
   "cell_type": "markdown",
   "id": "29035026-250c-4987-97f0-7afef25006ac",
   "metadata": {},
   "source": [
    "### ***Generar archivos .CSV | Almacenar en Google Cloud Storage***"
   ]
  },
  {
   "cell_type": "code",
   "execution_count": null,
   "id": "eea25aff-174c-4b0d-93a7-47d1b71c9aa5",
   "metadata": {},
   "outputs": [],
   "source": [
    "df_clasificados.to_csv('gs://proyecto_final_bigdata_bucket/raw/web_scraping/mundial_Qatar_2022/paises_clasificados.csv',index=False,header=False)\n",
    "\n"
   ]
  },
  {
   "cell_type": "code",
   "execution_count": null,
   "id": "a32e5854-cf84-4429-aa4d-ebe6a28944cd",
   "metadata": {},
   "outputs": [
    {
     "name": "stdout",
     "output_type": "stream",
     "text": [
      "Loaded 208 rows.\n"
     ]
    }
   ],
   "source": [
    "def load_table_uri_csv(table_id):\n",
    "\n",
    "    # Instanciar un objeto de tipo cliente BigQuery.\n",
    "    bq_client = bigquery.Client(project=\"proyecto-final-bigdata\")\n",
    "\n",
    "    # TODO(developer): Set table_id to the ID of the table to create.\n",
    "    table_id = \"proyecto-final-bigdata.raw_data.dim_paises\"\n",
    "\n",
    "    job_config = bigquery.LoadJobConfig(\n",
    "        schema=[\n",
    "            bigquery.SchemaField(\"pais\", \"STRING\"),\n",
    "            bigquery.SchemaField(\"clasificado\", \"STRING\"),\n",
    "        ],\n",
    "        skip_leading_rows=1,\n",
    "        # The source format defaults to CSV, so the line below is optional.\n",
    "        source_format=bigquery.SourceFormat.CSV,\n",
    "    )\n",
    "    uri = \"gs://proyecto_final_bigdata_bucket/raw/web_scraping/mundial_Qatar_2022/paises_clasificados.csv\"\n",
    "\n",
    "    load_job = bq_client.load_table_from_uri(\n",
    "        uri, table_id, job_config=job_config\n",
    "    )  # Make an API request.\n",
    "\n",
    "    load_job.result()  # Waits for the job to complete.\n",
    "\n",
    "    destination_table = bq_client.get_table(table_id)  # Make an API request.\n",
    "    print(\"Loaded {} rows.\".format(destination_table.num_rows))\n",
    "    # [END bigquery_load_table_gcs_csv]\n",
    "\n",
    "load_table_uri_csv(table_id)"
   ]
  },
  {
   "cell_type": "code",
   "execution_count": null,
   "id": "76b00404-e276-4ca8-9ff6-64ce413e005c",
   "metadata": {},
   "outputs": [],
   "source": []
  }
 ],
 "metadata": {
  "kernelspec": {
   "display_name": "Python (Local)",
   "language": "python",
   "name": "local-base"
  },
  "language_info": {
   "codemirror_mode": {
    "name": "ipython",
    "version": 3
   },
   "file_extension": ".py",
   "mimetype": "text/x-python",
   "name": "python",
   "nbconvert_exporter": "python",
   "pygments_lexer": "ipython3",
   "version": "3.7.12"
  }
 },
 "nbformat": 4,
 "nbformat_minor": 5
}
