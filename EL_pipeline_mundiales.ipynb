{
 "cells": [
  {
   "cell_type": "markdown",
   "id": "050debd9-1f8f-4730-8e05-ba8c9b5f8efb",
   "metadata": {
    "tags": []
   },
   "source": [
    "# **| PROYECTO FINAL | BIG DATA & ANALYTICS | G7 |**\n",
    "\n",
    "\n",
    "<img src=https://sc2.elpais.com.uy/files/article_main_up/uploads/2019/09/03/5d6eb181e460e.jpeg>"
   ]
  },
  {
   "cell_type": "markdown",
   "id": "38d69a8e-bfc4-4104-9c82-e3e802651519",
   "metadata": {},
   "source": []
  },
  {
   "cell_type": "markdown",
   "id": "9d2fae1b-3f18-42f6-9b05-a8cc3509ffe6",
   "metadata": {
    "tags": []
   },
   "source": [
    "# **Extract & Load Pipeline** \n",
    "## **(Web Scraping | Google Cloud Storage | Big Query)** \n",
    "El presente programa, se encaga de extraer información de distintas páginas web, utilizando web scraping, generar archivos .CSV, almacenar los archivos en Gooogle Cloud Storage y cargar los datos en Bigquery."
   ]
  },
  {
   "cell_type": "markdown",
   "id": "80f25dc5-5892-46d9-9b3e-096d72886d44",
   "metadata": {},
   "source": [
    "### ***Instalar Librería lxml***"
   ]
  },
  {
   "cell_type": "code",
   "execution_count": null,
   "id": "5b418cb2-dc67-450f-beb0-a429d7303754",
   "metadata": {
    "tags": []
   },
   "outputs": [
    {
     "name": "stdout",
     "output_type": "stream",
     "text": [
      "Collecting lxml\n",
      "  Using cached lxml-4.9.0-cp37-cp37m-manylinux_2_17_x86_64.manylinux2014_x86_64.manylinux_2_24_x86_64.whl (6.4 MB)\n",
      "Installing collected packages: lxml\n",
      "Successfully installed lxml-4.9.0\n",
      "Note: you may need to restart the kernel to use updated packages.\n"
     ]
    }
   ],
   "source": [
    "pip install lxml"
   ]
  },
  {
   "cell_type": "markdown",
   "id": "c543f224-3981-4826-91c2-868aff2e097c",
   "metadata": {},
   "source": [
    "### ***Importar librerías***"
   ]
  },
  {
   "cell_type": "code",
   "execution_count": null,
   "id": "f568cd28-5698-4d33-ac28-d3faef44f14a",
   "metadata": {},
   "outputs": [],
   "source": [
    "from bs4 import BeautifulSoup\n",
    "import urllib.request\n",
    "import ssl\n",
    "import pandas as pd\n",
    "ssl._create_default_https_context = ssl._create_unverified_context\n",
    "import os\n",
    "from google.cloud import storage\n",
    "from google.cloud import bigquery\n"
   ]
  },
  {
   "cell_type": "markdown",
   "id": "5628f4d3-bfab-459c-8617-f30273e7fecd",
   "metadata": {},
   "source": [
    "### ***Cliente para interactuar con la API de Google Cloud Storage***"
   ]
  },
  {
   "cell_type": "code",
   "execution_count": null,
   "id": "2a7c97af-e617-43e0-9063-4c777a98b0c4",
   "metadata": {},
   "outputs": [],
   "source": [
    "storage_client = storage.Client()"
   ]
  },
  {
   "cell_type": "markdown",
   "id": "e779d5c1-a34c-49c8-b31c-71848437c5ee",
   "metadata": {},
   "source": [
    "### ***Declaración de variables***"
   ]
  },
  {
   "cell_type": "code",
   "execution_count": null,
   "id": "fa514f5a-74b3-4e5f-b715-eababbdf0c84",
   "metadata": {},
   "outputs": [],
   "source": [
    "#DECLARAR VARIABLES COPAS MUNDIALES\n",
    "url_mundiales = \"https://www.marca.com/futbol/mundial/palmares.html\"\n",
    "table = pd.read_html(url_mundiales)\n",
    "\n",
    "#DECLARAR TABLAS BIGQUERY\n",
    "table_id = \"proyecto-final-bigdata.raw_data.copas_mundiales_csv\"\n"
   ]
  },
  {
   "cell_type": "markdown",
   "id": "dda74394-0016-4f44-ba23-1585842f6699",
   "metadata": {},
   "source": [
    "### ***Crear Dataframe***"
   ]
  },
  {
   "cell_type": "code",
   "execution_count": null,
   "id": "b7e8841b-646e-4e2c-ab35-985289d849cb",
   "metadata": {},
   "outputs": [],
   "source": [
    "df_mundiales = table[0]\n",
    "\n"
   ]
  },
  {
   "cell_type": "markdown",
   "id": "29035026-250c-4987-97f0-7afef25006ac",
   "metadata": {},
   "source": [
    "### ***Generar archivos .CSV | Almacenar en Google Cloud Storage***"
   ]
  },
  {
   "cell_type": "code",
   "execution_count": null,
   "id": "eea25aff-174c-4b0d-93a7-47d1b71c9aa5",
   "metadata": {},
   "outputs": [],
   "source": [
    "df_mundiales.to_csv('gs://proyecto_final_bigdata_bucket/raw/web_scraping/mundial_Qatar_2022/copas_mundiales.csv',index=False,header=False)\n"
   ]
  },
  {
   "cell_type": "markdown",
   "id": "a7d414a4-7b76-45df-95b6-41ba6252746c",
   "metadata": {},
   "source": [
    "### ***Cargar Data en BigQuery***"
   ]
  },
  {
   "cell_type": "code",
   "execution_count": null,
   "id": "a32e5854-cf84-4429-aa4d-ebe6a28944cd",
   "metadata": {},
   "outputs": [
    {
     "name": "stdout",
     "output_type": "stream",
     "text": [
      "Loaded 22 rows.\n"
     ]
    }
   ],
   "source": [
    "def load_table_uri_csv(table_id):\n",
    "\n",
    "    # Construct a BigQuery client object.\n",
    "    client = bigquery.Client(project=\"proyecto-final-bigdata\")\n",
    "\n",
    "    # TODO(developer): Set table_id to the ID of the table to create.\n",
    "    table_id = \"proyecto-final-bigdata.raw_data.copas_mundiales_csv\"\n",
    "\n",
    "    job_config = bigquery.LoadJobConfig(\n",
    "        schema=[\n",
    "            bigquery.SchemaField(\"anio\", \"STRING\"),\n",
    "            bigquery.SchemaField(\"pais_campeon\", \"STRING\"),\n",
    "            bigquery.SchemaField(\"pais_subcampeon\", \"STRING\"),\n",
    "            bigquery.SchemaField(\"sede\", \"STRING\"),\n",
    "        ],\n",
    "        skip_leading_rows=1,\n",
    "        # The source format defaults to CSV, so the line below is optional.\n",
    "        source_format=bigquery.SourceFormat.CSV,\n",
    "    )\n",
    "    uri = \"gs://proyecto_final_bigdata_bucket/raw/web_scraping/mundial_Qatar_2022/copas_mundiales.csv\"\n",
    "\n",
    "    load_job = client.load_table_from_uri(\n",
    "        uri, table_id, job_config=job_config\n",
    "    )  # Make an API request.\n",
    "\n",
    "    load_job.result()  # Waits for the job to complete.\n",
    "\n",
    "    destination_table = client.get_table(table_id)  # Make an API request.\n",
    "    print(\"Loaded {} rows.\".format(destination_table.num_rows))\n",
    "    # [END bigquery_load_table_gcs_csv]\n",
    "\n",
    "load_table_uri_csv(table_id)"
   ]
  },
  {
   "cell_type": "markdown",
   "id": "b56abd92-b865-4ae2-9318-9afe721bceaf",
   "metadata": {},
   "source": []
  }
 ],
 "metadata": {
  "kernelspec": {
   "display_name": "Python (Local)",
   "language": "python",
   "name": "local-base"
  },
  "language_info": {
   "codemirror_mode": {
    "name": "ipython",
    "version": 3
   },
   "file_extension": ".py",
   "mimetype": "text/x-python",
   "name": "python",
   "nbconvert_exporter": "python",
   "pygments_lexer": "ipython3",
   "version": "3.7.12"
  }
 },
 "nbformat": 4,
 "nbformat_minor": 5
}
